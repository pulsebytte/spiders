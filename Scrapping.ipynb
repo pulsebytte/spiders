{
 "cells": [
  {
   "cell_type": "code",
   "execution_count": 1,
   "id": "ee685834-225e-4272-b7eb-dfb43a63a156",
   "metadata": {},
   "outputs": [
    {
     "name": "stdout",
     "output_type": "stream",
     "text": [
      "Defaulting to user installation because normal site-packages is not writeable\n",
      "Collecting autoscraper\n",
      "  Downloading autoscraper-1.1.14-py3-none-any.whl (10 kB)\n",
      "Requirement already satisfied: requests in /usr/lib/python3/dist-packages (from autoscraper) (2.28.1)\n",
      "Collecting bs4\n",
      "  Downloading bs4-0.0.1.tar.gz (1.1 kB)\n",
      "  Preparing metadata (setup.py) ... \u001b[?25ldone\n",
      "\u001b[?25hCollecting lxml\n",
      "  Downloading lxml-4.9.3-cp311-cp311-manylinux_2_28_x86_64.whl (7.9 MB)\n",
      "\u001b[2K     \u001b[38;2;114;156;31m━━━━━━━━━━━━━━━━━━━━━━━━━━━━━━━━━━━━━━━━\u001b[0m \u001b[32m7.9/7.9 MB\u001b[0m \u001b[31m6.8 MB/s\u001b[0m eta \u001b[36m0:00:00\u001b[0mm eta \u001b[36m0:00:01\u001b[0m[36m0:00:01\u001b[0m\n",
      "\u001b[?25hRequirement already satisfied: beautifulsoup4 in ./.local/lib/python3.11/site-packages (from bs4->autoscraper) (4.12.2)\n",
      "Requirement already satisfied: soupsieve>1.2 in ./.local/lib/python3.11/site-packages (from beautifulsoup4->bs4->autoscraper) (2.4.1)\n",
      "Building wheels for collected packages: bs4\n",
      "  Building wheel for bs4 (setup.py) ... \u001b[?25ldone\n",
      "\u001b[?25h  Created wheel for bs4: filename=bs4-0.0.1-py3-none-any.whl size=1256 sha256=ccca6b0223292d68ef3355958ae0368bf8aaf81eab2e5d6f5bd75cd1de5d1102\n",
      "  Stored in directory: /home/roopam/.cache/pip/wheels/d4/c8/5b/b5be9c20e5e4503d04a6eac8a3cd5c2393505c29f02bea0960\n",
      "Successfully built bs4\n",
      "Installing collected packages: lxml, bs4, autoscraper\n",
      "Successfully installed autoscraper-1.1.14 bs4-0.0.1 lxml-4.9.3\n",
      "Note: you may need to restart the kernel to use updated packages.\n"
     ]
    }
   ],
   "source": [
    "pip install autoscraper"
   ]
  },
  {
   "cell_type": "code",
   "execution_count": 2,
   "id": "6134ed6b-fc1d-4735-afd0-6597e0efa3a1",
   "metadata": {},
   "outputs": [],
   "source": [
    "from autoscraper import AutoScraper"
   ]
  },
  {
   "cell_type": "code",
   "execution_count": 3,
   "id": "7c5ef9da-f258-45b3-9635-2adf9ab07492",
   "metadata": {},
   "outputs": [],
   "source": [
    "amazon_url=\"https://www.amazon.in/s?k=headphones\"\n",
    "wanted_list=[\"699\",\"ZEBRONICS Thunder 60 hrs Playback time Bluetooth Wireless Headphone with FM, mSD, Playback with Mic (Sea Green)\",\" 65,219\"]"
   ]
  },
  {
   "cell_type": "code",
   "execution_count": 5,
   "id": "210e90d6-e8be-40e4-9d2a-fc222a05db07",
   "metadata": {},
   "outputs": [
    {
     "name": "stdout",
     "output_type": "stream",
     "text": [
      "['7,499', '6,989', '399', '549', '699', '149', '325', '1,099', '1,499', '989', '1,199', '1,999', '2,299', '599', '1,699', '1,799', '19,987', '849', 'ZEBRONICS Zeb-Bro in Ear Wired Earphones with Mic, 3.5mm Audio Jack, 10mm Drivers, Phone/Tablet Compatible(Blue)', 'Amazon\\'s Choicefor \"headphones\"', 'boAt BassHeads 100 in-Ear Wired Headphones with Mic (Black)', 'ZEBRONICS Thunder 60 hrs Playback time Bluetooth Wireless Headphone with FM, mSD, Playback with Mic (Sea Green)', 'ZEBRONICS Zeb-Storm Wired On Ear Headphone with 3.5mm Jack, Built-in Microphone for Calling, 1.5 Meter Cable, Soft Ear Cushion, Adjustable Headband, Foldable Ear Cups and Lightweight Design (Black)', 'boAt Rockerz 400 Bluetooth On Ear Headphones With Mic With Upto 8 Hours Playback & Soft Padded Ear Cushions(Carbon Black)', 'boAt Rockerz 450R On-Ear Headphones with 15 Hours Battery, 40mm Drivers, Padded Ear Cushions, Easy Access Controls and Voice Assistant(Hazel Beige)', 'Infinity by Harman Tranz 700 On Ear Wireless Headphone with Mic, 20 Hrs Playtime with Quick Charge, Deep Bass, Dual Equalizer, Bluetooth 5.0 and Voice Assistant Support (Black)', 'Blaupunkt BH31 Bluetooth Wireless Over Ear Headphones I 40MM Drivers I HD Sound I Soft PU Headband I Media & Volume Control with Built in Mic I TurboVolt Fast Charging I AUX Port (Black)', 'Noise Two Wireless On-Ear Headphones with 50 Hours Playtime, Low Latency(up to 40ms), 4 Play Modes, Dual Pairing, BT v5.3 (Serene Blue)', 'JBL Tune 510BT, On Ear Wireless Headphones with Mic, up to 40 Hours Playtime, Pure Bass, Quick Charging, Dual Pairing, Bluetooth 5.0 & Voice Assistant Support for Mobile Phones (Black)', 'JBL C100SI Wired In Ear Headphones with Mic, JBL Pure Bass Sound, One Button Multi-function Remote, Angled Buds for Comfort fit (Black)', 'ZEBRONICS Thunder 60 hrs Playback time Bluetooth Wireless Headphone with FM, mSD, Playback with Mic (Blue)', 'Best sellerin On-Ear Headphones', 'boAt Rockerz 450 Bluetooth On Ear Headphones with Mic, Upto 15 Hours Playback, 40MM Drivers, Padded Ear Cushions, Integrated Controls and Dual Modes(Luscious Black)', 'Best sellerin Over-Ear Headphones', 'boAt Rockerz 558 Bluetooth Wireless Over Ear Headphones with Mic Upto 20 Hours Playback, 50MM Drivers, Soft Padded Ear Cushions and Physical Noise Isolation (Red)', 'Sony WH-1000XM4 Industry Leading Wireless Noise Cancellation Over-Ear Bluetooth Headphones with Mic,30 Hrs Battery, Multi Point-Black |Instant Bank Discount of INR 2000 on Select Prepaid transactions', 'boAt BassHeads 900 On-Ear Wired Headphone with Mic', 'ZEBRONICS Zeb-Storm Wired On Ear Headphone with 3.5mm Jack, Built-in Microphone for Calling, 1.5 Meter Cable, Soft Ear Cus...', 'boAt Rockerz 450R On-Ear Headphones with 15 Hours Battery, 40mm Drivers, Padded Ear Cushions, Easy Access Controls and Voi...', 'Infinity by Harman Tranz 700 On Ear Wireless Headphone with Mic, 20 Hrs Playtime with Quick Charge, Deep Bass, Dual Equali...', 'Blaupunkt BH31 Bluetooth Wireless Over Ear Headphones I 40MM Drivers I HD Sound I Soft PU Headband I Media & Volume Contro...', 'Noise Two Wireless On-Ear Headphones with 50 Hours Playtime, Low Latency(up to 40ms), 4 Play Modes, Dual Pairing, BT v5.3...', 'JBL Tune 510BT, On Ear Wireless Headphones with Mic, up to 40 Hours Playtime, Pure Bass, Quick Charging, Dual Pairing, Blu...', 'JBL C100SI Wired In Ear Headphones with Mic, JBL Pure Bass Sound, One Button Multi-function Remote, Angled Buds for Comfor...', 'boAt Rockerz 450 Bluetooth On Ear Headphones with Mic, Upto 15 Hours Playback, 40MM Drivers, Padded Ear Cushions, Integrat...', 'boAt Rockerz 558 Bluetooth Wireless Over Ear Headphones with Mic Upto 20 Hours Playback, 50MM Drivers, Soft Padded Ear Cus...', 'Sony WH-1000XM4 Industry Leading Wireless Noise Cancellation Over-Ear Bluetooth Headphones with Mic,30 Hrs Battery, Multi ...']\n"
     ]
    }
   ],
   "source": [
    "scraper=AutoScraper()\n",
    "result=scraper.build(amazon_url,wanted_list)\n",
    "print(result)"
   ]
  },
  {
   "cell_type": "code",
   "execution_count": null,
   "id": "0c4eb1fa-61a0-48de-b92f-90f2554da505",
   "metadata": {},
   "outputs": [],
   "source": []
  }
 ],
 "metadata": {
  "kernelspec": {
   "display_name": "Python 3 (ipykernel)",
   "language": "python",
   "name": "python3"
  },
  "language_info": {
   "codemirror_mode": {
    "name": "ipython",
    "version": 3
   },
   "file_extension": ".py",
   "mimetype": "text/x-python",
   "name": "python",
   "nbconvert_exporter": "python",
   "pygments_lexer": "ipython3",
   "version": "3.11.4"
  }
 },
 "nbformat": 4,
 "nbformat_minor": 5
}
